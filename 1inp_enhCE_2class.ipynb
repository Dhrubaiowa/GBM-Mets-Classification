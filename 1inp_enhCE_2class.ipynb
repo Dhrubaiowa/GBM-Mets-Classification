{
 "cells": [
  {
   "cell_type": "code",
   "execution_count": 1,
   "id": "guilty-confidentiality",
   "metadata": {},
   "outputs": [
    {
     "name": "stdout",
     "output_type": "stream",
     "text": [
      " /device:CPU:0 || Unnamed device || CPU || 256.0 MiB\n",
      " /device:GPU:0 ||  Quadro RTX 6000 || GPU || 21.3 GiB\n"
     ]
    }
   ],
   "source": [
    "from tensorflow.python.client import device_lib\n",
    "devices=device_lib.list_local_devices()\n",
    "def sizeof_fmt(num,suffix='B'):\n",
    "    for unit in ['','Ki','Mi','Gi', 'Ti', 'Pi','Ei','Zi']:\n",
    "        if abs(num)<1024.0:\n",
    "            return \"%3.1f %s%s\" %(num, unit, suffix)\n",
    "        num/=1024.0\n",
    "    return \"%.1f%s%s\" %(num, 'Yi', suffix)\n",
    "for d in devices:\n",
    "    t=d.device_type\n",
    "    name=d.physical_device_desc\n",
    "    l = [item.split(':',1) for item in name.split(\", \")]\n",
    "    name_attr = dict([x for x in l if len (x)==2])\n",
    "    dev = name_attr.get('name', 'Unnamed device')\n",
    "    print(f\" {d.name} || {dev} || {t} || {sizeof_fmt(d.memory_limit)}\")"
   ]
  },
  {
   "cell_type": "code",
   "execution_count": 2,
   "id": "tender-bailey",
   "metadata": {},
   "outputs": [],
   "source": [
    "import tensorflow as tf\n",
    "\n",
    "from tensorflow.compat.v1.keras.backend import set_session\n",
    "\n",
    "config = tf.compat.v1.ConfigProto()\n",
    "config.gpu_options.allow_growth = True\n",
    "sess = tf.compat.v1.Session(config=config)\n",
    "set_session(sess)\n",
    "\n",
    "import cv2\n",
    "import numpy as np\n",
    "import os\n",
    "import matplotlib.pyplot as plt\n",
    "import matplotlib\n",
    "import pathlib\n",
    "from tensorflow.keras import layers\n",
    "from tensorflow.keras.layers import *\n",
    "from tensorflow.keras.models import *\n",
    "from tensorflow.keras.utils import plot_model, to_categorical\n",
    "from tensorflow.keras import backend as K\n",
    "from tensorflow import losses, optimizers\n",
    "from tensorflow.keras.optimizers import *\n",
    "from tensorflow.keras.callbacks import ModelCheckpoint, LearningRateScheduler\n",
    "from tensorflow.keras.initializers import glorot_uniform\n",
    "from tensorflow.keras.metrics import top_k_categorical_accuracy\n",
    "from scipy.ndimage import zoom\n",
    "from tensorflow.python.framework.ops import disable_eager_execution\n",
    "disable_eager_execution()"
   ]
  },
  {
   "cell_type": "code",
   "execution_count": 3,
   "id": "fossil-panama",
   "metadata": {
    "scrolled": true
   },
   "outputs": [
    {
     "name": "stdout",
     "output_type": "stream",
     "text": [
      "Model: \"CstmNet\"\n",
      "_________________________________________________________________\n",
      "Layer (type)                 Output Shape              Param #   \n",
      "=================================================================\n",
      "input_1 (InputLayer)         [(None, 128, 128, 64, 1)] 0         \n",
      "_________________________________________________________________\n",
      "conv3 (Conv3D)               (None, 128, 128, 64, 32)  23360     \n",
      "_________________________________________________________________\n",
      "batch_normalization (BatchNo (None, 128, 128, 64, 32)  128       \n",
      "_________________________________________________________________\n",
      "activation (Activation)      (None, 128, 128, 64, 32)  0         \n",
      "_________________________________________________________________\n",
      "max_pooling3d (MaxPooling3D) (None, 21, 21, 10, 32)    0         \n",
      "_________________________________________________________________\n",
      "conv2 (Conv3D)               (None, 21, 21, 10, 32)    221216    \n",
      "_________________________________________________________________\n",
      "batch_normalization_1 (Batch (None, 21, 21, 10, 32)    128       \n",
      "_________________________________________________________________\n",
      "activation_1 (Activation)    (None, 21, 21, 10, 32)    0         \n",
      "_________________________________________________________________\n",
      "max_pooling3d_1 (MaxPooling3 (None, 7, 7, 3, 32)       0         \n",
      "_________________________________________________________________\n",
      "conv1 (Conv3D)               (None, 7, 7, 3, 16)       13840     \n",
      "_________________________________________________________________\n",
      "batch_normalization_2 (Batch (None, 7, 7, 3, 16)       64        \n",
      "_________________________________________________________________\n",
      "activation_2 (Activation)    (None, 7, 7, 3, 16)       0         \n",
      "_________________________________________________________________\n",
      "max_pooling3d_2 (MaxPooling3 (None, 3, 3, 1, 16)       0         \n",
      "_________________________________________________________________\n",
      "flatten (Flatten)            (None, 144)               0         \n",
      "_________________________________________________________________\n",
      "fc2 (Dense)                  (None, 256)               37120     \n",
      "_________________________________________________________________\n",
      "dropout (Dropout)            (None, 256)               0         \n",
      "_________________________________________________________________\n",
      "fc3 (Dense)                  (None, 128)               32896     \n",
      "_________________________________________________________________\n",
      "dropout_1 (Dropout)          (None, 128)               0         \n",
      "_________________________________________________________________\n",
      "fc5 (Dense)                  (None, 1)                 129       \n",
      "=================================================================\n",
      "Total params: 328,881\n",
      "Trainable params: 328,721\n",
      "Non-trainable params: 160\n",
      "_________________________________________________________________\n"
     ]
    }
   ],
   "source": [
    "def CstmNet(input_shape=(128, 128, 64, 1)):\n",
    "\n",
    "    X1_input = Input(input_shape)\n",
    "    \n",
    "\n",
    "    X1 = Conv3D(32, (9, 9, 9), strides=1, name='conv3', padding=\"same\", kernel_initializer=glorot_uniform(seed=0))(X1_input)\n",
    "    X1 = BatchNormalization(axis=-1)(X1)\n",
    "    X1 = Activation('relu')(X1)\n",
    "    X1 = MaxPooling3D(6, strides=6)(X1) \n",
    "    \n",
    "    X1 = Conv3D(32, (6, 6, 6), strides=1, name='conv2', padding=\"same\", kernel_initializer=glorot_uniform(seed=0))(X1)\n",
    "    X1 = BatchNormalization(axis=-1)(X1)\n",
    "    X1 = Activation('relu')(X1)\n",
    "    X1 = MaxPooling3D(3, strides=3)(X1) \n",
    "\n",
    "\n",
    "    X1 = Conv3D(16, (3, 3, 3), strides=1, name='conv1', padding=\"same\", kernel_initializer=glorot_uniform(seed=0))(X1)\n",
    "    X1 = BatchNormalization(axis=-1)(X1)\n",
    "    X1 = Activation('relu')(X1)\n",
    "    X1 = MaxPooling3D(3, strides=2)(X1)   \n",
    "      \n",
    "           \n",
    "    X = Flatten()(X1)\n",
    "    \n",
    "############ Final Layer ######################\n",
    "    \n",
    "#     X = Dense(512, activation='relu', name='fc1', kernel_initializer=glorot_uniform(seed=0))(X)\n",
    "#     X = Dropout(0.1)(X)\n",
    "    X = Dense(256, activation='relu', name='fc2', kernel_initializer=glorot_uniform(seed=0))(X)\n",
    "    X = Dropout(0.2)(X)\n",
    "    X = Dense(128, activation='relu', name='fc3', kernel_initializer=glorot_uniform(seed=0))(X)\n",
    "    drop = Dropout(0.2)(X)\n",
    "    output = Dense(1, activation='sigmoid', name='fc5',kernel_initializer=glorot_uniform(seed=0))(drop) \n",
    "    model = Model(inputs=[X1_input], outputs=output, name='CstmNet')\n",
    "    \n",
    "    return model\n",
    "\n",
    "model = CstmNet(input_shape=(128, 128, 64, 1))\n",
    "model.summary()"
   ]
  },
  {
   "cell_type": "code",
   "execution_count": 4,
   "id": "altered-gentleman",
   "metadata": {
    "collapsed": true
   },
   "outputs": [
    {
     "name": "stdout",
     "output_type": "stream",
     "text": [
      "{'GBM': 0, 'Mets': 1}\n",
      "{'GBM': 0, 'Mets': 1}\n",
      "################ tumor only shapes #####################\n",
      "(276, 128, 128, 64, 1)\n",
      "(276,)\n",
      "(31, 128, 128, 64, 1)\n",
      "(31,)\n"
     ]
    }
   ],
   "source": [
    "import nibabel as nib\n",
    "def create_dataset(img_folder):\n",
    "   \n",
    "    img_data_array=[]\n",
    "    class_name=[]\n",
    "   \n",
    "    for dir1 in os.listdir(img_folder):\n",
    "        for file in os.listdir(os.path.join(img_folder, dir1)):\n",
    "       \n",
    "            image_path= os.path.join(img_folder, dir1,  file)\n",
    "            image = nib.load(image_path)\n",
    "            img = image.get_fdata()\n",
    "            img = zoom(img, (0.533, 0.533, 0.413)) \n",
    "            img [img<0] = 0\n",
    "            img_nor = img / np.max(img)\n",
    "            img_nor = img_nor.astype(np.float32)\n",
    "            \n",
    "            img_data_array.append(img_nor)\n",
    "            class_name.append(dir1)\n",
    "    return img_data_array, class_name\n",
    "\n",
    "## extract the image array and class name\n",
    "\n",
    "img_train, class_train =create_dataset(r'C:/Dhruba Research Drive/Binary classification/enh/train')\n",
    "img_test, class_test =create_dataset(r'C:/Dhruba Research Drive/Binary classification/enh/test')\n",
    "\n",
    "####################################################################################################\n",
    "\n",
    "target_dict={k: v for v, k in enumerate(np.unique(class_train))}\n",
    "target_val=  [target_dict[class_train[i]] for i in range(len(class_train))]\n",
    "print(target_dict)\n",
    "\n",
    "target_dict_test={k: v for v, k in enumerate(np.unique(class_test))}\n",
    "target_val_test=  [target_dict_test[class_test[i]] for i in range(len(class_test))]\n",
    "print(target_dict_test)\n",
    "\n",
    "#######################################################################################################\n",
    "## CE only tumor Shape\n",
    "## For Training Set ##\n",
    "\n",
    "x1 = np.array(img_train, np.float32)\n",
    "y_train = np.array(list(map(int,target_val)), np.float32)\n",
    "X_train = np.expand_dims(x1, axis=4)\n",
    "\n",
    "## For Test Set ###\n",
    "\n",
    "x_test = np.array(img_test, np.float32)\n",
    "y_test = np.array(list(map(int,target_val_test)), np.float32)\n",
    "X_test = np.expand_dims(x_test, axis=4)\n",
    "\n",
    "\n",
    "print(\"################ tumor only shapes #####################\")\n",
    "\n",
    "print(X_train.shape)\n",
    "print(y_train.shape)\n",
    "\n",
    "print(X_test.shape)\n",
    "print(y_test.shape)"
   ]
  },
  {
   "cell_type": "code",
   "execution_count": 3,
   "id": "catholic-retirement",
   "metadata": {
    "scrolled": true
   },
   "outputs": [
    {
     "name": "stdout",
     "output_type": "stream",
     "text": [
      "{'GBM': 0, 'Mets': 1}\n",
      "################ Enh_CE tumor shapes #####################\n",
      "(58, 128, 128, 64, 1)\n",
      "(58,)\n"
     ]
    }
   ],
   "source": [
    "import nibabel as nib\n",
    "def create_dataset(img_folder):\n",
    "   \n",
    "    img_data_array=[]\n",
    "    class_name=[]\n",
    "   \n",
    "    for dir1 in os.listdir(img_folder):\n",
    "        for file in os.listdir(os.path.join(img_folder, dir1)):\n",
    "       \n",
    "            image_path= os.path.join(img_folder, dir1,  file)\n",
    "            image = nib.load(image_path)\n",
    "            img = image.get_fdata()\n",
    "            img = zoom(img, (0.533, 0.533, 0.413)) \n",
    "            img [img<0] = 0\n",
    "            img_nor = img / np.max(img)\n",
    "            img_nor = img_nor.astype(np.float32)\n",
    "            \n",
    "            img_data_array.append(img_nor)\n",
    "            class_name.append(dir1)\n",
    "    return img_data_array, class_name\n",
    "\n",
    "# extract the image array and class name\n",
    "\n",
    "img_test, class_test =create_dataset(r'C:\\\\Dhruba Research Drive\\\\External for binary\\\\Class_enhCE')\n",
    "\n",
    "####################################################################################################\n",
    "\n",
    "target_dict_test={k: v for v, k in enumerate(np.unique(class_test))}\n",
    "target_val_test=  [target_dict_test[class_test[i]] for i in range(len(class_test))]\n",
    "print(target_dict_test)\n",
    "\n",
    "\n",
    "#######################################################################################################\n",
    "### Enh_CE tumor Shape\n",
    "## For Test Set ###\n",
    "x_test=np.array(img_test, np.float32)\n",
    "y_test=np.array(list(map(int,target_val_test)), np.float32)\n",
    "X_test = np.expand_dims(x_test, axis=4)\n",
    "\n",
    "print(\"################ Enh_CE tumor shapes #####################\")\n",
    "print(X_test.shape)\n",
    "print(y_test.shape)"
   ]
  },
  {
   "cell_type": "code",
   "execution_count": 5,
   "id": "protected-milton",
   "metadata": {},
   "outputs": [
    {
     "name": "stdout",
     "output_type": "stream",
     "text": [
      "(1656, 128, 128, 64, 1)\n",
      "(1656,)\n"
     ]
    }
   ],
   "source": [
    "import scipy\n",
    "\n",
    "def scaleit(image, factor, isseg=False):\n",
    "    order = 0 if isseg == True else 3\n",
    "\n",
    "    height, width, depth= image.shape\n",
    "    zheight             = int(np.round(factor * height))\n",
    "    zwidth              = int(np.round(factor * width))\n",
    "    zdepth              = depth\n",
    "\n",
    "    if factor < 1.0:\n",
    "        newimg  = np.zeros_like(image)\n",
    "        row     = (height - zheight) // 2\n",
    "        col     = (width - zwidth) // 2\n",
    "        layer   = (depth - zdepth) // 2\n",
    "        newimg[row:row+zheight, col:col+zwidth, layer:layer+zdepth] = scipy.ndimage.interpolation.zoom(image, (float(factor), float(factor), 1.0), order=order, mode='nearest')[0:zheight, 0:zwidth, 0:zdepth]\n",
    "\n",
    "        return newimg\n",
    "\n",
    "    elif factor > 1.0:\n",
    "        row     = (zheight - height) // 2\n",
    "        col     = (zwidth - width) // 2\n",
    "        layer   = (zdepth - depth) // 2\n",
    "\n",
    "        newimg = scipy.ndimage.interpolation.zoom(image[row:row+zheight, col:col+zwidth, layer:layer+zdepth], (float(factor), float(factor), 1.0), order=order, mode='nearest')  \n",
    "        \n",
    "        extrah = (newimg.shape[0] - height) // 2\n",
    "        extraw = (newimg.shape[1] - width) // 2\n",
    "        extrad = (newimg.shape[2] - depth) // 2\n",
    "        newimg = newimg[extrah:extrah+height, extraw:extraw+width, extrad:extrad+depth]\n",
    "\n",
    "        return newimg\n",
    "\n",
    "    else:\n",
    "        return image\n",
    "    \n",
    "################################ CE  ######################################\n",
    "\n",
    "img_aug_array=[]\n",
    "class_aug_array = []\n",
    "zoom = [0.9, 0.95, 1.0, 1.05, 1.1, 1.15]\n",
    "for d in range (y_train.shape[0]):\n",
    "    for e in range (6):\n",
    "            volume = scaleit(X_train[d, :, :, :, 0], zoom[e], isseg=False)\n",
    "            img_aug_array.append(volume)\n",
    "            \n",
    "            y_train_class = y_train[d]\n",
    "            class_aug_array.append(y_train_class)\n",
    "        \n",
    "X_train_aug1_2 = np.array(img_aug_array, np.float32)\n",
    "X_train_aug1_2 = np.expand_dims(X_train_aug1_2, axis=4)\n",
    "print(X_train_aug1_2.shape)\n",
    "\n",
    "y_train_aug1_2 = np.array(class_aug_array, np.float32)\n",
    "print(y_train_aug1_2.shape)"
   ]
  },
  {
   "cell_type": "code",
   "execution_count": 6,
   "id": "promotional-element",
   "metadata": {},
   "outputs": [
    {
     "name": "stdout",
     "output_type": "stream",
     "text": [
      "(552, 128, 128, 64, 1)\n",
      "(552,)\n"
     ]
    }
   ],
   "source": [
    "from scipy import ndimage\n",
    "img_aug_array=[]\n",
    "class_aug_array = []\n",
    "angles = np.arange(-5, 6, 10)\n",
    "for d in range (y_train.shape[0]):\n",
    "    for e in range (2):\n",
    "            volume = ndimage.rotate(img_train[d], angles[e], reshape=False)\n",
    "            img_aug_array.append(volume)\n",
    "            \n",
    "            y_train_class = y_train[d]\n",
    "            class_aug_array.append(y_train_class)\n",
    "\n",
    "X_train_aug2 = np.array(img_aug_array, np.float32)\n",
    "X_train_aug2 = np.expand_dims(X_train_aug2, axis=4)\n",
    "print(X_train_aug2.shape)\n",
    "\n",
    "y_train_aug2 = np.array(class_aug_array, np.float32)\n",
    "print(y_train_aug2.shape)"
   ]
  },
  {
   "cell_type": "code",
   "execution_count": 7,
   "id": "passive-nancy",
   "metadata": {},
   "outputs": [
    {
     "name": "stdout",
     "output_type": "stream",
     "text": [
      "(3864, 128, 128, 64, 1)\n",
      "(3864,)\n"
     ]
    }
   ],
   "source": [
    "X_train_f1 = X_train_aug1_2[:, ::-1, :]\n",
    "y_train_f1 = y_train_aug1_2\n",
    "\n",
    "X_train_aug1 = np.concatenate((X_train_aug1_2, X_train_aug2, X_train_f1), axis=0)\n",
    "print(X_train_aug1.shape)\n",
    "y_train_aug1 = np.concatenate((y_train_aug1_2, y_train_aug2, y_train_f1), axis=0)\n",
    "print(y_train_aug1.shape)"
   ]
  },
  {
   "cell_type": "code",
   "execution_count": null,
   "id": "authorized-morris",
   "metadata": {},
   "outputs": [],
   "source": [
    "def sensitivity(y_true, y_pred):\n",
    "    true_positives = K.sum(K.round(K.clip(y_true * y_pred, 0, 1)))\n",
    "    possible_positives = K.sum(K.round(K.clip(y_true, 0, 1)))\n",
    "    return true_positives / (possible_positives + K.epsilon())\n",
    "\n",
    "def specificity(y_true, y_pred):\n",
    "    true_negatives = K.sum(K.round(K.clip((1-y_true) * (1-y_pred), 0, 1)))\n",
    "    possible_negatives = K.sum(K.round(K.clip(1-y_true, 0, 1)))\n",
    "    return true_negatives / (possible_negatives + K.epsilon())\n",
    "\n",
    "\n",
    "filepath = 'fold10_CstmNt_enhCE_2class.epoch{epoch:02d}-acc{val_accuracy:.2f}.hdf5'\n",
    "checkpoint = ModelCheckpoint(filepath=filepath, \n",
    "                             monitor='val_accuray',\n",
    "                             verbose=1, \n",
    "                             save_best_only=False,\n",
    "                             mode='max')\n",
    "callbacks = [checkpoint]\n",
    "\n",
    "#for Adam optimizer\n",
    "lr_schedule = tf.keras.optimizers.schedules.ExponentialDecay(\n",
    "    initial_learning_rate=6e-4,\n",
    "    decay_steps=10000,\n",
    "    decay_rate=0.9)\n",
    "\n",
    "optim = tf.keras.optimizers.Adam(learning_rate=1e-4)\n",
    "\n",
    "\n",
    "model.compile(optimizer=optim,\n",
    "              loss='binary_crossentropy',\n",
    "              metrics=['accuracy'])\n",
    "\n",
    "results=model.fit(\n",
    "          x=[X_train_aug1],\n",
    "          y=[y_train_aug1],\n",
    "          validation_data = ([X_test], y_test),\n",
    "          epochs = 8,\n",
    "          batch_size = 25,\n",
    "          callbacks=callbacks)"
   ]
  },
  {
   "cell_type": "code",
   "execution_count": 4,
   "id": "acting-cornell",
   "metadata": {},
   "outputs": [],
   "source": [
    "classification_model = load_model('CstmNt_exter_enhCE_2class.epoch08-acc0.90.hdf5', compile = False)"
   ]
  },
  {
   "cell_type": "code",
   "execution_count": 5,
   "id": "regional-procedure",
   "metadata": {},
   "outputs": [],
   "source": [
    "from sklearn.metrics import roc_curve\n",
    "from sklearn.metrics import roc_auc_score"
   ]
  },
  {
   "cell_type": "code",
   "execution_count": 8,
   "id": "integral-variable",
   "metadata": {},
   "outputs": [
    {
     "data": {
      "image/png": "[encoded data removed]",
      "text/plain": [
       "<Figure size 432x288 with 1 Axes>"
      ]
     },
     "metadata": {
      "needs_background": "light"
     },
     "output_type": "display_data"
    }
   ],
   "source": [
    "from matplotlib import pyplot\n",
    "ns_probs = [0 for _ in range(len(y_test))]\n",
    "y_pred = classification_model.predict(x=[X_test], batch_size = 25)\n",
    "lr_probs = y_pred\n",
    "ns_auc = roc_auc_score(y_test, ns_probs)\n",
    "lr_auc = roc_auc_score(y_test, lr_probs)\n",
    "# summarize scores\n",
    "#print('Logistic: ROC AUC=%.3f' % (lr_auc))\n",
    "\n",
    "# calculate roc curves\n",
    "ns_fpr, ns_tpr, _ = roc_curve(y_test, ns_probs)\n",
    "lr_fpr, lr_tpr, _ = roc_curve(y_test, lr_probs)\n",
    "# plot the roc curve for the model\n",
    "pyplot.plot(ns_fpr, ns_tpr, color=\"black\", linestyle='--')\n",
    "pyplot.plot(lr_fpr, lr_tpr, color=\"deeppink\", marker='.', label=\"ROC curve (area = {0:0.2f})\".format(lr_auc))\n",
    "# axis labels\n",
    "pyplot.xlabel('False Positive Rate (1-Specificity)', fontsize=13)\n",
    "pyplot.ylabel('True Positive Rate (Sensitivity)', fontsize=13)\n",
    "plt.title('ROC Curve, AUC = %.2f'%lr_auc, fontsize=16)\n",
    "# show the legend\n",
    "pyplot.legend()\n",
    "plt.legend(loc=\"lower right\")\n",
    "# save the fig\n",
    "#plt.savefig('C:/Users/Dhruba/codes/bi_test AUC.tiff', dpi=600, format=\"tiff\", pil_kwargs={\"compression\": \"tiff_lzw\"})\n",
    "# show the plot\n",
    "pyplot.show()"
   ]
  },
  {
   "cell_type": "code",
   "execution_count": 9,
   "id": "reduced-consciousness",
   "metadata": {},
   "outputs": [
    {
     "data": {
      "text/plain": [
       "array([0.        , 0.        , 0.        , 0.07692308, 0.07692308,\n",
       "       0.11538462, 0.11538462, 0.38461538, 0.38461538, 0.53846154,\n",
       "       0.53846154, 0.84615385, 0.84615385, 1.        ])"
      ]
     },
     "execution_count": 9,
     "metadata": {},
     "output_type": "execute_result"
    }
   ],
   "source": [
    "lr_fpr"
   ]
  },
  {
   "cell_type": "code",
   "execution_count": 10,
   "id": "taken-visit",
   "metadata": {},
   "outputs": [
    {
     "data": {
      "text/plain": [
       "array([0.     , 0.0625 , 0.6875 , 0.6875 , 0.8125 , 0.8125 , 0.90625,\n",
       "       0.90625, 0.9375 , 0.9375 , 0.96875, 0.96875, 1.     , 1.     ])"
      ]
     },
     "execution_count": 10,
     "metadata": {},
     "output_type": "execute_result"
    }
   ],
   "source": [
    "lr_tpr"
   ]
  },
  {
   "cell_type": "code",
   "execution_count": 11,
   "id": "educated-essence",
   "metadata": {},
   "outputs": [
    {
     "data": {
      "text/plain": [
       "0.9242788461538461"
      ]
     },
     "execution_count": 11,
     "metadata": {},
     "output_type": "execute_result"
    }
   ],
   "source": [
    "lr_auc"
   ]
  }
 ],
 "metadata": {
  "kernelspec": {
   "display_name": "Python 3",
   "language": "python",
   "name": "python3"
  },
  "language_info": {
   "codemirror_mode": {
    "name": "ipython",
    "version": 3
   },
   "file_extension": ".py",
   "mimetype": "text/x-python",
   "name": "python",
   "nbconvert_exporter": "python",
   "pygments_lexer": "ipython3",
   "version": "3.8.5"
  }
 },
 "nbformat": 4,
 "nbformat_minor": 5
}
