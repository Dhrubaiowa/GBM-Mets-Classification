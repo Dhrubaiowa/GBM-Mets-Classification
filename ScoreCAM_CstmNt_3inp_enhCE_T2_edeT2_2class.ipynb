{
 "cells": [
  {
   "cell_type": "code",
   "execution_count": 1,
   "id": "guilty-confidentiality",
   "metadata": {},
   "outputs": [
    {
     "name": "stdout",
     "output_type": "stream",
     "text": [
      " /device:CPU:0 || Unnamed device || CPU || 256.0 MiB\n",
      " /device:GPU:0 ||  Quadro RTX 6000 || GPU || 21.7 GiB\n"
     ]
    }
   ],
   "source": [
    "from tensorflow.python.client import device_lib\n",
    "devices=device_lib.list_local_devices()\n",
    "def sizeof_fmt(num,suffix='B'):\n",
    "    for unit in ['','Ki','Mi','Gi', 'Ti', 'Pi','Ei','Zi']:\n",
    "        if abs(num)<1024.0:\n",
    "            return \"%3.1f %s%s\" %(num, unit, suffix)\n",
    "        num/=1024.0\n",
    "    return \"%.1f%s%s\" %(num, 'Yi', suffix)\n",
    "for d in devices:\n",
    "    t=d.device_type\n",
    "    name=d.physical_device_desc\n",
    "    l = [item.split(':',1) for item in name.split(\", \")]\n",
    "    name_attr = dict([x for x in l if len (x)==2])\n",
    "    dev = name_attr.get('name', 'Unnamed device')\n",
    "    print(f\" {d.name} || {dev} || {t} || {sizeof_fmt(d.memory_limit)}\")"
   ]
  },
  {
   "cell_type": "code",
   "execution_count": 2,
   "id": "tender-bailey",
   "metadata": {},
   "outputs": [],
   "source": [
    "from tqdm.notebook import tqdm_notebook\n",
    "from scipy import ndimage\n",
    "import tensorflow as tf\n",
    "from skimage.transform import resize\n",
    "from tensorflow.compat.v1.keras.backend import set_session\n",
    "from flask import Flask, session\n",
    "config = tf.compat.v1.ConfigProto()\n",
    "config.gpu_options.allow_growth = True\n",
    "sess = tf.compat.v1.Session(config=config)\n",
    "set_session(sess)\n",
    "import cv2\n",
    "import numpy as np\n",
    "import os\n",
    "import matplotlib.pyplot as plt\n",
    "import matplotlib\n",
    "import pathlib\n",
    "from tensorflow.keras import layers\n",
    "from tensorflow.keras.layers import *\n",
    "from tensorflow.keras.models import *\n",
    "from tensorflow.keras.utils import plot_model, to_categorical\n",
    "from tensorflow.keras import backend as K\n",
    "from tensorflow import losses, optimizers\n",
    "from tensorflow.keras.optimizers import *\n",
    "from tensorflow.keras.callbacks import ModelCheckpoint, LearningRateScheduler\n",
    "from tensorflow.keras.initializers import glorot_uniform\n",
    "from tensorflow.keras.metrics import top_k_categorical_accuracy\n",
    "from scipy.ndimage import zoom\n",
    "from tensorflow.python.framework.ops import disable_eager_execution\n",
    "disable_eager_execution()"
   ]
  },
  {
   "cell_type": "code",
   "execution_count": 7,
   "id": "catholic-retirement",
   "metadata": {
    "scrolled": true
   },
   "outputs": [
    {
     "data": {
      "application/vnd.jupyter.widget-view+json": {
       "model_id": "4cdfc3944dcd4b67a45eb6fc88a81225",
       "version_major": 2,
       "version_minor": 0
      },
      "text/plain": [
       "  0%|          | 0/2 [00:00<?, ?it/s]"
      ]
     },
     "metadata": {},
     "output_type": "display_data"
    },
    {
     "data": {
      "application/vnd.jupyter.widget-view+json": {
       "model_id": "950d33151ae444199386ab61ea984221",
       "version_major": 2,
       "version_minor": 0
      },
      "text/plain": [
       "  0%|          | 0/26 [00:00<?, ?it/s]"
      ]
     },
     "metadata": {},
     "output_type": "display_data"
    },
    {
     "data": {
      "application/vnd.jupyter.widget-view+json": {
       "model_id": "9e50c37f1d284a5eabdc8a06b173545c",
       "version_major": 2,
       "version_minor": 0
      },
      "text/plain": [
       "  0%|          | 0/32 [00:00<?, ?it/s]"
      ]
     },
     "metadata": {},
     "output_type": "display_data"
    },
    {
     "data": {
      "application/vnd.jupyter.widget-view+json": {
       "model_id": "22e7b1d429244586b1f81b62ee397126",
       "version_major": 2,
       "version_minor": 0
      },
      "text/plain": [
       "  0%|          | 0/2 [00:00<?, ?it/s]"
      ]
     },
     "metadata": {},
     "output_type": "display_data"
    },
    {
     "data": {
      "application/vnd.jupyter.widget-view+json": {
       "model_id": "7c254c00b04d4032af72cef1a8522013",
       "version_major": 2,
       "version_minor": 0
      },
      "text/plain": [
       "  0%|          | 0/26 [00:00<?, ?it/s]"
      ]
     },
     "metadata": {},
     "output_type": "display_data"
    },
    {
     "data": {
      "application/vnd.jupyter.widget-view+json": {
       "model_id": "038d91f10a374629858f06687691464d",
       "version_major": 2,
       "version_minor": 0
      },
      "text/plain": [
       "  0%|          | 0/32 [00:00<?, ?it/s]"
      ]
     },
     "metadata": {},
     "output_type": "display_data"
    },
    {
     "data": {
      "application/vnd.jupyter.widget-view+json": {
       "model_id": "35eb422667b745fd9435c0ec4b3fc9e5",
       "version_major": 2,
       "version_minor": 0
      },
      "text/plain": [
       "  0%|          | 0/2 [00:00<?, ?it/s]"
      ]
     },
     "metadata": {},
     "output_type": "display_data"
    },
    {
     "data": {
      "application/vnd.jupyter.widget-view+json": {
       "model_id": "0f82600a84c1456fbe9f5faa71e66d3c",
       "version_major": 2,
       "version_minor": 0
      },
      "text/plain": [
       "  0%|          | 0/26 [00:00<?, ?it/s]"
      ]
     },
     "metadata": {},
     "output_type": "display_data"
    },
    {
     "data": {
      "application/vnd.jupyter.widget-view+json": {
       "model_id": "6c87ae6c8400460280e03ed9021f8f71",
       "version_major": 2,
       "version_minor": 0
      },
      "text/plain": [
       "  0%|          | 0/32 [00:00<?, ?it/s]"
      ]
     },
     "metadata": {},
     "output_type": "display_data"
    },
    {
     "name": "stdout",
     "output_type": "stream",
     "text": [
      "{'GBM': 0, 'Mets': 1}\n",
      "{'GBM': 0, 'Mets': 1}\n",
      "{'GBM': 0, 'Mets': 1}\n",
      "################ Enh_CE tumor shapes #####################\n",
      "(58, 128, 128, 64, 1)\n",
      "(58,)\n",
      "############## Enh_T2 tumor Shapes ############################\n",
      "(58, 128, 128, 64, 1)\n",
      "(58,)\n",
      "############## Ede_T2 tumor Shapes ############################\n",
      "(58, 128, 128, 64, 1)\n",
      "(58,)\n"
     ]
    }
   ],
   "source": [
    "import nibabel as nib\n",
    "def create_dataset(img_folder):\n",
    "   \n",
    "    img_data_array=[]\n",
    "    class_name=[]\n",
    "   \n",
    "    for dir1 in tqdm_notebook(os.listdir(img_folder)):\n",
    "        for file in tqdm_notebook(os.listdir(os.path.join(img_folder, dir1))):\n",
    "       \n",
    "            image_path= os.path.join(img_folder, dir1,  file)\n",
    "            image = nib.load(image_path)\n",
    "            img = image.get_fdata()\n",
    "            img = zoom(img, (0.533, 0.533, 0.413)) \n",
    "            img [img<0] = 0\n",
    "            img_nor = img / np.max(img)\n",
    "            img_nor = img_nor.astype(np.float32)\n",
    "            \n",
    "            img_data_array.append(img_nor)\n",
    "            class_name.append(dir1)\n",
    "    return img_data_array, class_name\n",
    "\n",
    "# extract the image array and class name\n",
    "\n",
    "img_test, class_test =create_dataset(r'C:\\\\Dhruba Research Drive\\\\External for binary\\\\Class_enhCE')\n",
    "img_test2, class_test2 =create_dataset(r'C:\\\\Dhruba Research Drive\\\\External for binary\\\\Class_enhT2')\n",
    "img_test3, class_test3 =create_dataset(r'C:\\\\Dhruba Research Drive\\\\External for binary\\\\Class_edeT2')\n",
    "\n",
    "####################################################################################################\n",
    "\n",
    "target_dict_test={k: v for v, k in enumerate(np.unique(class_test))}\n",
    "target_val_test=  [target_dict_test[class_test[i]] for i in range(len(class_test))]\n",
    "print(target_dict_test)\n",
    "\n",
    "#######################################################################################################\n",
    "\n",
    "target_dict_test2={k: v for v, k in enumerate(np.unique(class_test2))}\n",
    "target_val_test2=  [target_dict_test2[class_test2[i]] for i in range(len(class_test2))]\n",
    "print(target_dict_test2)\n",
    "\n",
    "#######################################################################################################\n",
    "\n",
    "target_dict_test3={k: v for v, k in enumerate(np.unique(class_test3))}\n",
    "target_val_test3=  [target_dict_test3[class_test3[i]] for i in range(len(class_test3))]\n",
    "print(target_dict_test3)\n",
    "\n",
    "#######################################################################################################\n",
    "### Enh_CE tumor shape \n",
    "## For Test Set ###\n",
    "x_test=np.array(img_test, np.float32)\n",
    "y_test=np.array(list(map(int,target_val_test)), np.float32)\n",
    "X_test = np.expand_dims(x_test, axis=4)\n",
    "\n",
    "## Enh_T2 tumor shape \n",
    "## For Test Set ###\n",
    "x_test2=np.array(img_test2, np.float32)\n",
    "y_test2=np.array(list(map(int,target_val_test2)), np.float32)\n",
    "X_test2 = np.expand_dims(x_test2, axis=4)\n",
    "\n",
    "## Ede_T2 tumor shape \n",
    "## For Test Set ###\n",
    "x_test3=np.array(img_test3, np.float32)\n",
    "y_test3=np.array(list(map(int,target_val_test3)), np.float32)\n",
    "X_test3 = np.expand_dims(x_test3, axis=4)\n",
    "\n",
    "print(\"################ Enh_CE tumor shapes #####################\")\n",
    "print(X_test.shape)\n",
    "print(y_test.shape)\n",
    "\n",
    "print(\"############## Enh_T2 tumor Shapes ############################\")\n",
    "print(X_test2.shape)\n",
    "print(y_test2.shape)\n",
    "\n",
    "print(\"############## Ede_T2 tumor Shapes ############################\")\n",
    "print(X_test3.shape)\n",
    "print(y_test3.shape)"
   ]
  },
  {
   "cell_type": "code",
   "execution_count": 4,
   "id": "1223585f",
   "metadata": {},
   "outputs": [
    {
     "name": "stdout",
     "output_type": "stream",
     "text": [
      "WARNING:tensorflow:From C:\\Users\\dhruba\\.conda\\envs\\tf_2.10\\lib\\site-packages\\keras\\layers\\normalization\\batch_normalization.py:562: _colocate_with (from tensorflow.python.framework.ops) is deprecated and will be removed in a future version.\n",
      "Instructions for updating:\n",
      "Colocations handled automatically by placer.\n"
     ]
    }
   ],
   "source": [
    "classification_model = load_model('CstmNt2_3inp_2class.epoch03-acc0.83.hdf5', compile = False)"
   ]
  },
  {
   "cell_type": "code",
   "execution_count": 5,
   "id": "71182051",
   "metadata": {
    "scrolled": true
   },
   "outputs": [
    {
     "name": "stdout",
     "output_type": "stream",
     "text": [
      "Model: \"CstmNet_2\"\n",
      "__________________________________________________________________________________________________\n",
      " Layer (type)                   Output Shape         Param #     Connected to                     \n",
      "==================================================================================================\n",
      " input_1 (InputLayer)           [(None, 128, 128, 6  0           []                               \n",
      "                                4, 1)]                                                            \n",
      "                                                                                                  \n",
      " input_2 (InputLayer)           [(None, 128, 128, 6  0           []                               \n",
      "                                4, 1)]                                                            \n",
      "                                                                                                  \n",
      " input_3 (InputLayer)           [(None, 128, 128, 6  0           []                               \n",
      "                                4, 1)]                                                            \n",
      "                                                                                                  \n",
      " conv3 (Conv3D)                 (None, 128, 128, 64  23360       ['input_1[0][0]']                \n",
      "                                , 32)                                                             \n",
      "                                                                                                  \n",
      " conv3_1 (Conv3D)               (None, 128, 128, 64  23360       ['input_2[0][0]']                \n",
      "                                , 32)                                                             \n",
      "                                                                                                  \n",
      " conv3_2 (Conv3D)               (None, 128, 128, 64  23360       ['input_3[0][0]']                \n",
      "                                , 32)                                                             \n",
      "                                                                                                  \n",
      " batch_normalization (BatchNorm  (None, 128, 128, 64  128        ['conv3[0][0]']                  \n",
      " alization)                     , 32)                                                             \n",
      "                                                                                                  \n",
      " batch_normalization_3 (BatchNo  (None, 128, 128, 64  128        ['conv3_1[0][0]']                \n",
      " rmalization)                   , 32)                                                             \n",
      "                                                                                                  \n",
      " batch_normalization_6 (BatchNo  (None, 128, 128, 64  128        ['conv3_2[0][0]']                \n",
      " rmalization)                   , 32)                                                             \n",
      "                                                                                                  \n",
      " activation (Activation)        (None, 128, 128, 64  0           ['batch_normalization[0][0]']    \n",
      "                                , 32)                                                             \n",
      "                                                                                                  \n",
      " activation_3 (Activation)      (None, 128, 128, 64  0           ['batch_normalization_3[0][0]']  \n",
      "                                , 32)                                                             \n",
      "                                                                                                  \n",
      " activation_6 (Activation)      (None, 128, 128, 64  0           ['batch_normalization_6[0][0]']  \n",
      "                                , 32)                                                             \n",
      "                                                                                                  \n",
      " max_pooling3d (MaxPooling3D)   (None, 21, 21, 10,   0           ['activation[0][0]']             \n",
      "                                32)                                                               \n",
      "                                                                                                  \n",
      " max_pooling3d_3 (MaxPooling3D)  (None, 21, 21, 10,   0          ['activation_3[0][0]']           \n",
      "                                32)                                                               \n",
      "                                                                                                  \n",
      " max_pooling3d_6 (MaxPooling3D)  (None, 21, 21, 10,   0          ['activation_6[0][0]']           \n",
      "                                32)                                                               \n",
      "                                                                                                  \n",
      " conv2 (Conv3D)                 (None, 21, 21, 10,   221216      ['max_pooling3d[0][0]']          \n",
      "                                32)                                                               \n",
      "                                                                                                  \n",
      " conv2_1 (Conv3D)               (None, 21, 21, 10,   221216      ['max_pooling3d_3[0][0]']        \n",
      "                                32)                                                               \n",
      "                                                                                                  \n",
      " conv2_2 (Conv3D)               (None, 21, 21, 10,   221216      ['max_pooling3d_6[0][0]']        \n",
      "                                32)                                                               \n",
      "                                                                                                  \n",
      " batch_normalization_1 (BatchNo  (None, 21, 21, 10,   128        ['conv2[0][0]']                  \n",
      " rmalization)                   32)                                                               \n",
      "                                                                                                  \n",
      " batch_normalization_4 (BatchNo  (None, 21, 21, 10,   128        ['conv2_1[0][0]']                \n",
      " rmalization)                   32)                                                               \n",
      "                                                                                                  \n",
      " batch_normalization_7 (BatchNo  (None, 21, 21, 10,   128        ['conv2_2[0][0]']                \n",
      " rmalization)                   32)                                                               \n",
      "                                                                                                  \n",
      " activation_1 (Activation)      (None, 21, 21, 10,   0           ['batch_normalization_1[0][0]']  \n",
      "                                32)                                                               \n",
      "                                                                                                  \n",
      " activation_4 (Activation)      (None, 21, 21, 10,   0           ['batch_normalization_4[0][0]']  \n",
      "                                32)                                                               \n",
      "                                                                                                  \n",
      " activation_7 (Activation)      (None, 21, 21, 10,   0           ['batch_normalization_7[0][0]']  \n",
      "                                32)                                                               \n",
      "                                                                                                  \n",
      " max_pooling3d_1 (MaxPooling3D)  (None, 7, 7, 3, 32)  0          ['activation_1[0][0]']           \n",
      "                                                                                                  \n",
      " max_pooling3d_4 (MaxPooling3D)  (None, 7, 7, 3, 32)  0          ['activation_4[0][0]']           \n",
      "                                                                                                  \n",
      " max_pooling3d_7 (MaxPooling3D)  (None, 7, 7, 3, 32)  0          ['activation_7[0][0]']           \n",
      "                                                                                                  \n",
      " conv1 (Conv3D)                 (None, 7, 7, 3, 16)  13840       ['max_pooling3d_1[0][0]']        \n",
      "                                                                                                  \n"
     ]
    },
    {
     "name": "stdout",
     "output_type": "stream",
     "text": [
      " conv1_1 (Conv3D)               (None, 7, 7, 3, 16)  13840       ['max_pooling3d_4[0][0]']        \n",
      "                                                                                                  \n",
      " conv1_2 (Conv3D)               (None, 7, 7, 3, 16)  13840       ['max_pooling3d_7[0][0]']        \n",
      "                                                                                                  \n",
      " batch_normalization_2 (BatchNo  (None, 7, 7, 3, 16)  64         ['conv1[0][0]']                  \n",
      " rmalization)                                                                                     \n",
      "                                                                                                  \n",
      " batch_normalization_5 (BatchNo  (None, 7, 7, 3, 16)  64         ['conv1_1[0][0]']                \n",
      " rmalization)                                                                                     \n",
      "                                                                                                  \n",
      " batch_normalization_8 (BatchNo  (None, 7, 7, 3, 16)  64         ['conv1_2[0][0]']                \n",
      " rmalization)                                                                                     \n",
      "                                                                                                  \n",
      " activation_2 (Activation)      (None, 7, 7, 3, 16)  0           ['batch_normalization_2[0][0]']  \n",
      "                                                                                                  \n",
      " activation_5 (Activation)      (None, 7, 7, 3, 16)  0           ['batch_normalization_5[0][0]']  \n",
      "                                                                                                  \n",
      " activation_8 (Activation)      (None, 7, 7, 3, 16)  0           ['batch_normalization_8[0][0]']  \n",
      "                                                                                                  \n",
      " max_pooling3d_2 (MaxPooling3D)  (None, 3, 3, 1, 16)  0          ['activation_2[0][0]']           \n",
      "                                                                                                  \n",
      " max_pooling3d_5 (MaxPooling3D)  (None, 3, 3, 1, 16)  0          ['activation_5[0][0]']           \n",
      "                                                                                                  \n",
      " max_pooling3d_8 (MaxPooling3D)  (None, 3, 3, 1, 16)  0          ['activation_8[0][0]']           \n",
      "                                                                                                  \n",
      " concatenate (Concatenate)      (None, 3, 3, 1, 48)  0           ['max_pooling3d_2[0][0]',        \n",
      "                                                                  'max_pooling3d_5[0][0]',        \n",
      "                                                                  'max_pooling3d_8[0][0]']        \n",
      "                                                                                                  \n",
      " flatten (Flatten)              (None, 432)          0           ['concatenate[0][0]']            \n",
      "                                                                                                  \n",
      " fc2 (Dense)                    (None, 256)          110848      ['flatten[0][0]']                \n",
      "                                                                                                  \n",
      " dropout (Dropout)              (None, 256)          0           ['fc2[0][0]']                    \n",
      "                                                                                                  \n",
      " fc3 (Dense)                    (None, 128)          32896       ['dropout[0][0]']                \n",
      "                                                                                                  \n",
      " dropout_1 (Dropout)            (None, 128)          0           ['fc3[0][0]']                    \n",
      "                                                                                                  \n",
      " fc5 (Dense)                    (None, 1)            129         ['dropout_1[0][0]']              \n",
      "                                                                                                  \n",
      "==================================================================================================\n",
      "Total params: 920,081\n",
      "Trainable params: 919,601\n",
      "Non-trainable params: 480\n",
      "__________________________________________________________________________________________________\n"
     ]
    }
   ],
   "source": [
    "classification_model.summary()"
   ]
  },
  {
   "cell_type": "code",
   "execution_count": 8,
   "id": "92c4f0d0",
   "metadata": {},
   "outputs": [
    {
     "data": {
      "text/plain": [
       "(58, 1)"
      ]
     },
     "execution_count": 8,
     "metadata": {},
     "output_type": "execute_result"
    }
   ],
   "source": [
    "y_pred = classification_model.predict(x=[X_test, X_test2, X_test3], batch_size = 20)\n",
    "y_pred.shape"
   ]
  },
  {
   "cell_type": "code",
   "execution_count": 11,
   "id": "d521e518",
   "metadata": {},
   "outputs": [],
   "source": [
    "# y_pred[y_pred>=0.5] = 1\n",
    "# y_pred[y_pred<0.5] = 0"
   ]
  },
  {
   "cell_type": "code",
   "execution_count": 12,
   "id": "981a757b",
   "metadata": {},
   "outputs": [
    {
     "name": "stdout",
     "output_type": "stream",
     "text": [
      "(128, 128, 64, 1)\n",
      "(128, 128, 1)\n"
     ]
    },
    {
     "data": {
      "text/plain": [
       "Text(0.5, 1.0, 'T2-PTR')"
      ]
     },
     "execution_count": 12,
     "metadata": {},
     "output_type": "execute_result"
    },
    {
     "data": {
      "image/png": "[encoded data removed]",
      "text/plain": [
       "<Figure size 1500x500 with 3 Axes>"
      ]
     },
     "metadata": {},
     "output_type": "display_data"
    }
   ],
   "source": [
    "img = X_test[0]\n",
    "img2 = X_test2[0]\n",
    "img3 = X_test3[0]\n",
    "print(img.shape)\n",
    "sli = img[:, :, 35]\n",
    "sli2 = img2[:, :, 35]\n",
    "sli3 = img3[:, :, 35]\n",
    "print(sli.shape)\n",
    "vol = np.transpose(sli, (2, 1, 0))\n",
    "vol = vol[0, :, :]\n",
    "vol2 = np.transpose(sli2, (2, 1, 0))\n",
    "vol2 = vol2[0, :, :]\n",
    "vol3 = np.transpose(sli3, (2, 1, 0))\n",
    "vol3 = vol3[0, :, :]\n",
    "f, axarr = plt.subplots(1,3,figsize=(15,5));\n",
    "img_plot = axarr[0].imshow(vol, cmap='gray');\n",
    "axarr[0].axis('off')\n",
    "axarr[0].set_title('T1-CE')\n",
    "\n",
    "img_plot = axarr[1].imshow(vol2, cmap='gray');\n",
    "axarr[1].axis('off')\n",
    "axarr[1].set_title('T2-CE')\n",
    "\n",
    "img_plot = axarr[2].imshow(vol3, cmap='gray');\n",
    "axarr[2].axis('off')\n",
    "axarr[2].set_title('T2-PTR')"
   ]
  },
  {
   "cell_type": "code",
   "execution_count": 16,
   "id": "b7b90ebd",
   "metadata": {},
   "outputs": [],
   "source": [
    "def ScoreCam(model, img_array, img_array2, img_array3, layer_name, max_N=-1):\n",
    "\n",
    "    cls = np.argmax(model.predict([img_array,img_array2, img_array3], steps = 1))\n",
    "    act_map_array = Model(inputs=model.input, outputs=model.get_layer(layer_name).output).predict([img_array,img_array2, img_array3], steps = 1)\n",
    "    \n",
    "    # extract effective maps\n",
    "    if max_N != -1:\n",
    "        act_map_std_list = [np.std(act_map_array[0,:,:,:,k]) for k in range(act_map_array.shape[3])]\n",
    "        unsorted_max_indices = np.argpartition(-np.array(act_map_std_list), max_N)[:max_N]\n",
    "        max_N_indices = unsorted_max_indices[np.argsort(-np.array(act_map_std_list)[unsorted_max_indices])]\n",
    "        act_map_array = act_map_array[:,:,:,:,max_N_indices]\n",
    "\n",
    "    input_shape = model.layers[0].output_shape[0][1:]  # get input shape\n",
    "    # 1. upsample to original input size\n",
    "    act_map_resized_list = [cv2.resize(act_map_array[0,:,:,:,k], input_shape[:2], interpolation=cv2.INTER_LINEAR) for k in range(act_map_array.shape[4])]\n",
    "    # 2. normalize the raw activation value in each activation map into [0, 1]\n",
    "    act_map_normalized_list = []\n",
    "    for act_map_resized in act_map_resized_list:\n",
    "        if np.max(act_map_resized) - np.min(act_map_resized) != 0:\n",
    "            act_map_normalized = act_map_resized / (np.max(act_map_resized) - np.min(act_map_resized))\n",
    "        else:\n",
    "            act_map_normalized = act_map_resized\n",
    "        act_map_normalized_list.append(act_map_normalized)\n",
    "    # 3. project highlighted area in the activation map to original input space by multiplying the normalized activation map\n",
    "    masked_input_list = []\n",
    "    masked_input_list2 = []\n",
    "    masked_input_list3 = []\n",
    "    for act_map_normalized in act_map_normalized_list:\n",
    "        #masked_input = np.copy(img_array)\n",
    "#         with session() as sess:\n",
    "#             sess.run(tf.global_variables_initializer())\n",
    "        masked_input = img_array.eval(session=sess)\n",
    "        for k in range(1):\n",
    "            masked_input[0,:,:,35,k] *= act_map_normalized[:,:,0]\n",
    "        masked_input_list.append(masked_input)\n",
    "        \n",
    "    for act_map_normalized in act_map_normalized_list:\n",
    "        masked_input2 = img_array2.eval(session=sess)\n",
    "        for k in range(1):\n",
    "            masked_input2[0,:,:,35,k] *= act_map_normalized[:,:,0]\n",
    "        masked_input_list2.append(masked_input2)\n",
    "        \n",
    "    for act_map_normalized in act_map_normalized_list:\n",
    "        masked_input3 = img_array3.eval(session=sess)\n",
    "        for k in range(1):\n",
    "            masked_input3[0,:,:,35,k] *= act_map_normalized[:,:,0]\n",
    "        masked_input_list3.append(masked_input3)\n",
    "        \n",
    "    masked_input_array = np.concatenate(masked_input_list, axis=0)\n",
    "    masked_input_array2 = np.concatenate(masked_input_list2, axis=0)\n",
    "    masked_input_array3 = np.concatenate(masked_input_list3, axis=0)\n",
    "    # 4. feed masked inputs into CNN model and softmax\n",
    "    pred_from_masked_input_array = softmax(model.predict([masked_input_array, masked_input_array2, masked_input_array3], steps = 1))\n",
    "    # 5. define weight as the score of target class\n",
    "    weights = pred_from_masked_input_array[:,cls]\n",
    "    print(weights.shape)\n",
    "    # 6. get final class discriminative localization map as linear weighted combination of all activation maps\n",
    "    cam = np.dot(act_map_array[0,:,:,:], weights)\n",
    "    cam = resize(cam,(128,128,64))\n",
    "    cam = np.maximum(0, cam)  # Passing through ReLU\n",
    "    cam /= np.max(cam)  # scale 0 to 1.0\n",
    "    return cam\n",
    "\n",
    "def softmax(x):\n",
    "    f = np.exp(x)/np.sum(np.exp(x), axis = 1, keepdims = True)\n",
    "    return f"
   ]
  },
  {
   "cell_type": "code",
   "execution_count": 92,
   "id": "ba3942c2",
   "metadata": {
    "scrolled": false
   },
   "outputs": [
    {
     "name": "stdout",
     "output_type": "stream",
     "text": [
      "WARNING:tensorflow:When passing input data as arrays, do not specify `steps_per_epoch`/`steps` argument. Please use `batch_size` instead.\n",
      "(32,)\n",
      "(128, 128, 64)\n"
     ]
    },
    {
     "data": {
      "text/plain": [
       "Text(0.5, 1.0, 'Overlay')"
      ]
     },
     "execution_count": 92,
     "metadata": {},
     "output_type": "execute_result"
    },
    {
     "data": {
      "image/png": "[encoded data removed]",
      "text/plain": [
       "<Figure size 1500x500 with 3 Axes>"
      ]
     },
     "metadata": {},
     "output_type": "display_data"
    }
   ],
   "source": [
    "LAYER_NAME = 'conv2'\n",
    "img_num = 57 #total 58 images, 0-57\n",
    "image= X_test[img_num]\n",
    "image2= X_test2[img_num]\n",
    "image3= X_test3[img_num]\n",
    "resized_img=image[:,:,:,0]\n",
    "resized_img2=image2[:,:,:,0]\n",
    "resized_img3=image3[:,:,:,0]\n",
    "io_img=tf.expand_dims(image, axis=0)\n",
    "io_img2=tf.expand_dims(image2, axis=0)\n",
    "io_img3=tf.expand_dims(image3, axis=0)\n",
    "\n",
    "heatmap = ScoreCam(classification_model, io_img, io_img2, io_img3, LAYER_NAME, max_N=-1)\n",
    "print(heatmap.shape)\n",
    "f, axarr = plt.subplots(1,3,figsize=(15,5));\n",
    "\n",
    "## To move heatmap (-left)---(+right), (-up)---(+down)\n",
    "M2 = np.float32([[1, 0, 0], [0, 1, 30]])\n",
    "\n",
    "## warpAffine does appropriate shifting given the translation matrix.\n",
    "#axial_grad_cmap_img2 = cv2.warpAffine(axial_grad_cmap_img, M1, (64, 128))\n",
    "\n",
    "coronal_ct_img=np.squeeze(resized_img[:, :, 20]) #to view slice number 18; total slices 64, 0-63\n",
    "coronal_ct_img2=np.squeeze(resized_img[:, :, 30]) #slice number 26 overlapping slice 18\n",
    "coronal_ct_img3=np.squeeze(resized_img[:, :, 30])  \n",
    "coronal_ct_img4=np.squeeze(resized_img[:, :, 48])  \n",
    "coronal_ct_img5=np.squeeze(resized_img[:, :, 35])  #slice number 35 overlapping slice 18, 26, 54, 48\n",
    "\n",
    "coronal_grad_cmap_img = np.squeeze(heatmap[:, :, 25]) #to view heatmap for slice number 25\n",
    "coronal_grad_cmap_img2 = np.squeeze(heatmap[:, :, 30]) \n",
    "coronal_grad_cmap_img3 = np.squeeze(heatmap[:, :, 35]) \n",
    "coronal_grad_cmap_overlay = cv2.addWeighted(coronal_grad_cmap_img, 0.5, coronal_grad_cmap_img3, 0.5, 0)\n",
    "coronal_grad_cmap_overlay = cv2.addWeighted(coronal_grad_cmap_img2, 0.5, coronal_grad_cmap_overlay, 0.5, 0)\n",
    "\n",
    "##############################################################################################################\n",
    "## uncomment below to apply the heatmap movement as specified by \"M2\"\n",
    "coronal_grad_cmap_img = cv2.warpAffine(coronal_grad_cmap_overlay, M2, (128, 128))\n",
    "\n",
    "\n",
    "img_overlay=cv2.addWeighted(coronal_ct_img, 0.5, coronal_ct_img2, 0.5, 0)\n",
    "img_overlay=cv2.addWeighted(coronal_ct_img5, 0.5, img_overlay, 0.5, 0)\n",
    "\n",
    "img_plot = axarr[0].imshow(img_overlay, cmap='gray');\n",
    "axarr[0].axis('on')\n",
    "axarr[0].set_title('MRI')\n",
    "\n",
    "img_plot = axarr[1].imshow(coronal_grad_cmap_img, cmap='jet');\n",
    "axarr[1].axis('on')\n",
    "axarr[1].set_title('Score-CAM')\n",
    "    \n",
    "Coronal_overlay3=cv2.addWeighted(coronal_grad_cmap_img, 0.5, img_overlay, 0.5, 0)\n",
    "\n",
    "    \n",
    "img_plot = axarr[2].imshow(Coronal_overlay3,cmap='jet');\n",
    "axarr[2].axis('on')\n",
    "axarr[2].set_title('Overlay')"
   ]
  },
  {
   "cell_type": "code",
   "execution_count": null,
   "id": "62734c78",
   "metadata": {},
   "outputs": [],
   "source": []
  }
 ],
 "metadata": {
  "kernelspec": {
   "display_name": "tf_2.10",
   "language": "python",
   "name": "tf_2.10"
  },
  "language_info": {
   "codemirror_mode": {
    "name": "ipython",
    "version": 3
   },
   "file_extension": ".py",
   "mimetype": "text/x-python",
   "name": "python",
   "nbconvert_exporter": "python",
   "pygments_lexer": "ipython3",
   "version": "3.10.0"
  }
 },
 "nbformat": 4,
 "nbformat_minor": 5
}
